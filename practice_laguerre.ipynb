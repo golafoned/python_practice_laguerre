{
 "cells": [
  {
   "cell_type": "markdown",
   "id": "71489122-79fc-467c-b7a3-e31276d082fc",
   "metadata": {},
   "source": [
    "<h1 style=\"text-align: center\">Завдання на навчальну практику з програмування</h1>"
   ]
  },
  {
   "cell_type": "markdown",
   "id": "fd2bf029-8386-4830-acb1-08628a7d1011",
   "metadata": {},
   "source": [
    "<h4>Мета: Метою цієї лабораторної роботи є вивчення та розуміння функцій Лаґерра, їх обчислення та табулювання, проведення обчислювального експерименту для визначення точки при якій значення всіх функції Лаґерра менші за ε, обчислення значень інтегралів, виконання прямого та оберненого ПЛ для заданої функції, а також побудову графіків для візуалізації результатів.</h4>"
   ]
  },
  {
   "cell_type": "code",
   "execution_count": 93,
   "id": "3b9cb6f4-b098-4e76-b99e-bacaa92a8833",
   "metadata": {},
   "outputs": [],
   "source": [
    "import matplotlib.pyplot as plt\n",
    "import numpy as np\n",
    "import pandas as pd\n",
    "from ipywidgets import interact, interactive, fixed, interact_manual\n",
    "import ipywidgets as widgets"
   ]
  },
  {
   "cell_type": "markdown",
   "id": "2558b821-fbc7-46a1-851b-8d1e2ad20ee4",
   "metadata": {},
   "source": [
    "1. Побудувати функцiю для обчислення значення функцiї Лаґерра за формулою (1.2) для довiльних t i n, а параметри задавати за замовчуванням β = 2, σ = 4."
   ]
  },
  {
   "cell_type": "code",
   "execution_count": 94,
   "id": "2ce143aa-0440-4b43-ad9e-111579f2256a",
   "metadata": {},
   "outputs": [],
   "source": [
    "def laguerre(t, n, beta=0, sigma=1):\n",
    "    if beta < 0 or beta > sigma:\n",
    "        raise ValueError(\"Wrong parameters\")\n",
    "\n",
    "    lpp = np.sqrt(sigma)*np.exp(-beta*t/2)\n",
    "    lp = np.sqrt(sigma)*(1 - sigma*t)*np.exp(-beta*t/2)\n",
    "\n",
    "    if n == 0:\n",
    "        return lpp\n",
    "    if n == 1:\n",
    "        return lp\n",
    "\n",
    "    for i in range(2, n+1):\n",
    "        temp = lp\n",
    "        lp = (2*i - 1 - sigma*t)*lp/i - (i-1)*lpp / i\n",
    "        lpp = temp\n",
    "\n",
    "    return lp"
   ]
  },
  {
   "cell_type": "markdown",
   "id": "9ff9a296-2476-49c1-976f-4db17adc36ab",
   "metadata": {},
   "source": [
    "<hr>"
   ]
  },
  {
   "cell_type": "markdown",
   "id": "c3bc03ec-799f-4c18-9332-cc63b682ab91",
   "metadata": {},
   "source": [
    "2. Побудувати функцiю для табулювання при заданих n, β, σ функцiї\n",
    "Лаґерра на вiдрiзку [0, T] iз заданим T ∈ R+"
   ]
  },
  {
   "cell_type": "code",
   "execution_count": 95,
   "id": "23061ca8-629d-47b0-9f06-79ceeaba51f7",
   "metadata": {},
   "outputs": [],
   "source": [
    "def tabulate_laguerre(T, n, beta, gamma):\n",
    "    t = np.linspace(1, T, T)\n",
    "    results = laguerre(t, n, beta, gamma)\n",
    "    df = pd.DataFrame({'t': t, 'l': results})\n",
    "    return df.round(5)"
   ]
  },
  {
   "cell_type": "code",
   "execution_count": 96,
   "id": "fc8f04b9-edbf-4bdd-96d2-bd88556f3e88",
   "metadata": {},
   "outputs": [
    {
     "name": "stdout",
     "output_type": "stream",
     "text": [
      "Табульована функція Лагера для T=5, n=3, beta=2, sigma=4\n"
     ]
    },
    {
     "data": {
      "text/html": [
       "<div>\n",
       "<style scoped>\n",
       "    .dataframe tbody tr th:only-of-type {\n",
       "        vertical-align: middle;\n",
       "    }\n",
       "\n",
       "    .dataframe tbody tr th {\n",
       "        vertical-align: top;\n",
       "    }\n",
       "\n",
       "    .dataframe thead th {\n",
       "        text-align: right;\n",
       "    }\n",
       "</style>\n",
       "<table border=\"1\" class=\"dataframe\">\n",
       "  <thead>\n",
       "    <tr style=\"text-align: right;\">\n",
       "      <th></th>\n",
       "      <th>t</th>\n",
       "      <th>l</th>\n",
       "    </tr>\n",
       "  </thead>\n",
       "  <tbody>\n",
       "    <tr>\n",
       "      <th>0</th>\n",
       "      <td>1.0</td>\n",
       "      <td>1.71677</td>\n",
       "    </tr>\n",
       "    <tr>\n",
       "      <th>1</th>\n",
       "      <td>2.0</td>\n",
       "      <td>-3.33827</td>\n",
       "    </tr>\n",
       "    <tr>\n",
       "      <th>2</th>\n",
       "      <td>3.0</td>\n",
       "      <td>-10.65443</td>\n",
       "    </tr>\n",
       "    <tr>\n",
       "      <th>3</th>\n",
       "      <td>4.0</td>\n",
       "      <td>-12.66221</td>\n",
       "    </tr>\n",
       "    <tr>\n",
       "      <th>4</th>\n",
       "      <td>5.0</td>\n",
       "      <td>-10.67740</td>\n",
       "    </tr>\n",
       "  </tbody>\n",
       "</table>\n",
       "</div>"
      ],
      "text/plain": [
       "     t         l\n",
       "0  1.0   1.71677\n",
       "1  2.0  -3.33827\n",
       "2  3.0 -10.65443\n",
       "3  4.0 -12.66221\n",
       "4  5.0 -10.67740"
      ]
     },
     "execution_count": 96,
     "metadata": {},
     "output_type": "execute_result"
    }
   ],
   "source": [
    "print(\"Табульована функція Лагера для T=5, n=3, beta=2, sigma=4\")\n",
    "tabulate_laguerre(5, 3, 2, 4)"
   ]
  },
  {
   "cell_type": "markdown",
   "id": "679794c9-f1d1-40c0-9c50-0a5c8db5ee69",
   "metadata": {},
   "source": [
    "Висновок: функція для табулювання функції Лаґерра на відрізку [0, T] була побудована та використана для генерації таблиці значень."
   ]
  },
  {
   "cell_type": "markdown",
   "id": "b6be846a-2647-4ab1-850a-0e59a8994e03",
   "metadata": {},
   "source": [
    "<hr>"
   ]
  },
  {
   "cell_type": "markdown",
   "id": "3369ec92-3c24-472e-99da-40fff0f51d2c",
   "metadata": {},
   "source": [
    "3. Провести обчислювальний експеримент: для N = 20 на основi графiкiв з п.2 знайти точку T > 0, щоб |ln(T)| < ε = 10e−3 для усiх n ∈ [0, N].<br>Побудувати табличку для |ln(T)| для усiх n ∈ [0, N]."
   ]
  },
  {
   "cell_type": "code",
   "execution_count": 97,
   "id": "8d751a59-bbb8-41d2-b776-add4b53afd13",
   "metadata": {},
   "outputs": [],
   "source": [
    "def experiment(N, beta, sigma, max_T=100, epsilon=0.00001):\n",
    "    t = np.linspace(0, max_T, 1000)\n",
    "    n = range(0, N+1)\n",
    "    true_for_all = False\n",
    "    result = 0\n",
    "    for i in t:\n",
    "        for j in n:\n",
    "            if abs(laguerre(i, j, beta, sigma)) < epsilon:\n",
    "                true_for_all = True\n",
    "            else:\n",
    "                true_for_all = False\n",
    "        if true_for_all:\n",
    "            result = i\n",
    "            break\n",
    "    else:\n",
    "        result = None\n",
    "    if result == None:\n",
    "        raise \"The experiment is failed, there is no T that satisfy condition. You can set bigger max T to check\"\n",
    "    return result"
   ]
  },
  {
   "cell_type": "code",
   "execution_count": 98,
   "id": "577abc17-96e1-4169-b028-3dc3973e5597",
   "metadata": {},
   "outputs": [],
   "source": [
    "def tabulate_experiment(N, max_T=100, epsilon=0.001, beta=2, sigma=4):\n",
    "    t = experiment(N, beta, sigma, max_T, epsilon)\n",
    "    lt_values = []\n",
    "    for n in range(0, N+1):\n",
    "        lt_values.append(laguerre(t, n, beta, sigma))\n",
    "    cols = {\"t\": [t]*(N+1), \"n\": range(0, N+1), \"L(t)\": lt_values}\n",
    "\n",
    "    return pd.DataFrame(cols).round(5)"
   ]
  },
  {
   "cell_type": "code",
   "execution_count": 99,
   "id": "93d6c662-e2d0-4295-98bc-0c7c39911132",
   "metadata": {},
   "outputs": [
    {
     "name": "stdout",
     "output_type": "stream",
     "text": [
      "Табюльований екперемент для N=20, beta=2, sigma=4\n"
     ]
    },
    {
     "data": {
      "text/html": [
       "<div>\n",
       "<style scoped>\n",
       "    .dataframe tbody tr th:only-of-type {\n",
       "        vertical-align: middle;\n",
       "    }\n",
       "\n",
       "    .dataframe tbody tr th {\n",
       "        vertical-align: top;\n",
       "    }\n",
       "\n",
       "    .dataframe thead th {\n",
       "        text-align: right;\n",
       "    }\n",
       "</style>\n",
       "<table border=\"1\" class=\"dataframe\">\n",
       "  <thead>\n",
       "    <tr style=\"text-align: right;\">\n",
       "      <th></th>\n",
       "      <th>t</th>\n",
       "      <th>n</th>\n",
       "      <th>L(t)</th>\n",
       "    </tr>\n",
       "  </thead>\n",
       "  <tbody>\n",
       "    <tr>\n",
       "      <th>0</th>\n",
       "      <td>79.07908</td>\n",
       "      <td>0</td>\n",
       "      <td>0.00000</td>\n",
       "    </tr>\n",
       "    <tr>\n",
       "      <th>1</th>\n",
       "      <td>79.07908</td>\n",
       "      <td>1</td>\n",
       "      <td>-0.00000</td>\n",
       "    </tr>\n",
       "    <tr>\n",
       "      <th>2</th>\n",
       "      <td>79.07908</td>\n",
       "      <td>2</td>\n",
       "      <td>0.00000</td>\n",
       "    </tr>\n",
       "    <tr>\n",
       "      <th>3</th>\n",
       "      <td>79.07908</td>\n",
       "      <td>3</td>\n",
       "      <td>-0.00000</td>\n",
       "    </tr>\n",
       "    <tr>\n",
       "      <th>4</th>\n",
       "      <td>79.07908</td>\n",
       "      <td>4</td>\n",
       "      <td>0.00000</td>\n",
       "    </tr>\n",
       "    <tr>\n",
       "      <th>5</th>\n",
       "      <td>79.07908</td>\n",
       "      <td>5</td>\n",
       "      <td>-0.00000</td>\n",
       "    </tr>\n",
       "    <tr>\n",
       "      <th>6</th>\n",
       "      <td>79.07908</td>\n",
       "      <td>6</td>\n",
       "      <td>0.00000</td>\n",
       "    </tr>\n",
       "    <tr>\n",
       "      <th>7</th>\n",
       "      <td>79.07908</td>\n",
       "      <td>7</td>\n",
       "      <td>-0.00000</td>\n",
       "    </tr>\n",
       "    <tr>\n",
       "      <th>8</th>\n",
       "      <td>79.07908</td>\n",
       "      <td>8</td>\n",
       "      <td>0.00000</td>\n",
       "    </tr>\n",
       "    <tr>\n",
       "      <th>9</th>\n",
       "      <td>79.07908</td>\n",
       "      <td>9</td>\n",
       "      <td>-0.00000</td>\n",
       "    </tr>\n",
       "    <tr>\n",
       "      <th>10</th>\n",
       "      <td>79.07908</td>\n",
       "      <td>10</td>\n",
       "      <td>0.00000</td>\n",
       "    </tr>\n",
       "    <tr>\n",
       "      <th>11</th>\n",
       "      <td>79.07908</td>\n",
       "      <td>11</td>\n",
       "      <td>-0.00000</td>\n",
       "    </tr>\n",
       "    <tr>\n",
       "      <th>12</th>\n",
       "      <td>79.07908</td>\n",
       "      <td>12</td>\n",
       "      <td>0.00000</td>\n",
       "    </tr>\n",
       "    <tr>\n",
       "      <th>13</th>\n",
       "      <td>79.07908</td>\n",
       "      <td>13</td>\n",
       "      <td>-0.00000</td>\n",
       "    </tr>\n",
       "    <tr>\n",
       "      <th>14</th>\n",
       "      <td>79.07908</td>\n",
       "      <td>14</td>\n",
       "      <td>0.00000</td>\n",
       "    </tr>\n",
       "    <tr>\n",
       "      <th>15</th>\n",
       "      <td>79.07908</td>\n",
       "      <td>15</td>\n",
       "      <td>-0.00000</td>\n",
       "    </tr>\n",
       "    <tr>\n",
       "      <th>16</th>\n",
       "      <td>79.07908</td>\n",
       "      <td>16</td>\n",
       "      <td>0.00000</td>\n",
       "    </tr>\n",
       "    <tr>\n",
       "      <th>17</th>\n",
       "      <td>79.07908</td>\n",
       "      <td>17</td>\n",
       "      <td>-0.00000</td>\n",
       "    </tr>\n",
       "    <tr>\n",
       "      <th>18</th>\n",
       "      <td>79.07908</td>\n",
       "      <td>18</td>\n",
       "      <td>0.00000</td>\n",
       "    </tr>\n",
       "    <tr>\n",
       "      <th>19</th>\n",
       "      <td>79.07908</td>\n",
       "      <td>19</td>\n",
       "      <td>-0.00007</td>\n",
       "    </tr>\n",
       "    <tr>\n",
       "      <th>20</th>\n",
       "      <td>79.07908</td>\n",
       "      <td>20</td>\n",
       "      <td>0.00097</td>\n",
       "    </tr>\n",
       "  </tbody>\n",
       "</table>\n",
       "</div>"
      ],
      "text/plain": [
       "           t   n     L(t)\n",
       "0   79.07908   0  0.00000\n",
       "1   79.07908   1 -0.00000\n",
       "2   79.07908   2  0.00000\n",
       "3   79.07908   3 -0.00000\n",
       "4   79.07908   4  0.00000\n",
       "5   79.07908   5 -0.00000\n",
       "6   79.07908   6  0.00000\n",
       "7   79.07908   7 -0.00000\n",
       "8   79.07908   8  0.00000\n",
       "9   79.07908   9 -0.00000\n",
       "10  79.07908  10  0.00000\n",
       "11  79.07908  11 -0.00000\n",
       "12  79.07908  12  0.00000\n",
       "13  79.07908  13 -0.00000\n",
       "14  79.07908  14  0.00000\n",
       "15  79.07908  15 -0.00000\n",
       "16  79.07908  16  0.00000\n",
       "17  79.07908  17 -0.00000\n",
       "18  79.07908  18  0.00000\n",
       "19  79.07908  19 -0.00007\n",
       "20  79.07908  20  0.00097"
      ]
     },
     "execution_count": 99,
     "metadata": {},
     "output_type": "execute_result"
    }
   ],
   "source": [
    "print(\"Табюльований екперемент для N=20, beta=2, sigma=4\")\n",
    "tabulate_experiment(20, 100, 0.001, 2, 4)"
   ]
  },
  {
   "cell_type": "markdown",
   "id": "5ac53fe0-cec7-44c3-8bb2-9c8801638063",
   "metadata": {},
   "source": [
    "Висновок: був проведений експеремент в ході якого ми відшукали точку T≈79 і перевірив що значення функції Лаґерра для кожного n ∈ [0, N] менше за  ε = 10e−3"
   ]
  },
  {
   "cell_type": "markdown",
   "id": "a30dd1fb-7c45-4105-a170-fb1d1e240947",
   "metadata": {},
   "source": [
    "<hr>"
   ]
  },
  {
   "attachments": {
    "5a3d376c-752b-47b0-91c6-41bdb2eece1b.png": {
     "image/png": "[encoded data removed]"
    }
   },
   "cell_type": "markdown",
   "id": "117aa70e-c217-44f1-b7c4-bc45c23bf3da",
   "metadata": {},
   "source": [
    "4. Побудувати функцiю для обчислення значень iнтегралiв (1.3) наближено за формулою <br> ![image.png](attachment:5a3d376c-752b-47b0-91c6-41bdb2eece1b.png)"
   ]
  },
  {
   "cell_type": "code",
   "execution_count": 100,
   "id": "356c14ed-e1c6-4a22-8c31-f9b1cc45b7ff",
   "metadata": {},
   "outputs": [],
   "source": [
    "def integral(f, a, b, margin=0.001):\n",
    "    area = 0\n",
    "    while (abs(b-a) > margin/10):\n",
    "        area += margin*f(a+margin/2)\n",
    "        a = a+margin\n",
    "    return area"
   ]
  },
  {
   "cell_type": "code",
   "execution_count": 101,
   "id": "2ffee1a6-2a69-40b4-bcb7-1e53193cd6fa",
   "metadata": {},
   "outputs": [],
   "source": [
    "def laguerre_transformation(f, N, epsilon=0.001, beta=2, sigma=4):\n",
    "    to = experiment(N, beta, sigma, 1000, epsilon)\n",
    "    return [integral(lambda t: f(t)*laguerre(t, k, beta, sigma)\n",
    "                     * np.exp(-t*(sigma-beta)), 0, to, epsilon) for k in range(N+1)]"
   ]
  },
  {
   "cell_type": "markdown",
   "id": "1bc78805-3386-48db-acf7-027a7a5347f1",
   "metadata": {},
   "source": [
    "<hr>"
   ]
  },
  {
   "attachments": {
    "0247ac84-9427-4f79-a6d4-69357bfcfe70.png": {
     "image/png": "[encoded data removed]"
    }
   },
   "cell_type": "markdown",
   "id": "2ea24064-80f9-4738-831d-a90b842eb0ad",
   "metadata": {},
   "source": [
    "5. Для функцiї <br> ![image.png](attachment:0247ac84-9427-4f79-a6d4-69357bfcfe70.png) <br>виконати ПЛ, а саме знайти коефiцiєнти f^N := (f0, f1, ..., fN)^⊤ при N = 20."
   ]
  },
  {
   "cell_type": "code",
   "execution_count": 102,
   "id": "59353a9d-8552-4ed8-8611-69df4294a0b3",
   "metadata": {},
   "outputs": [],
   "source": [
    "def func5(t):\n",
    "    if t >= 0 and t <= 2*np.pi:\n",
    "        return np.sin(t-np.pi/2) + 1\n",
    "    else:\n",
    "        return 0"
   ]
  },
  {
   "cell_type": "code",
   "execution_count": 103,
   "id": "7fc7cfee-d80f-45be-b03f-a73b4be9e983",
   "metadata": {},
   "outputs": [],
   "source": [
    "def tabulate_laguerre_transformation(f, N, epsilon=0.001, beta=2, sigma=4):\n",
    "    transformed = laguerre_transformation(f, N, epsilon, beta, sigma)\n",
    "    cols = {\"n\": range(0, N+1), \"transformed\": transformed}\n",
    "    return pd.DataFrame(cols).round(5)"
   ]
  },
  {
   "cell_type": "code",
   "execution_count": 104,
   "id": "48e8f33d-ca20-4f88-9804-94817d933710",
   "metadata": {},
   "outputs": [
    {
     "name": "stdout",
     "output_type": "stream",
     "text": [
      "Табульована трансформація Лагера для N=20\n"
     ]
    },
    {
     "data": {
      "text/html": [
       "<div>\n",
       "<style scoped>\n",
       "    .dataframe tbody tr th:only-of-type {\n",
       "        vertical-align: middle;\n",
       "    }\n",
       "\n",
       "    .dataframe tbody tr th {\n",
       "        vertical-align: top;\n",
       "    }\n",
       "\n",
       "    .dataframe thead th {\n",
       "        text-align: right;\n",
       "    }\n",
       "</style>\n",
       "<table border=\"1\" class=\"dataframe\">\n",
       "  <thead>\n",
       "    <tr style=\"text-align: right;\">\n",
       "      <th></th>\n",
       "      <th>n</th>\n",
       "      <th>transformed</th>\n",
       "    </tr>\n",
       "  </thead>\n",
       "  <tbody>\n",
       "    <tr>\n",
       "      <th>0</th>\n",
       "      <td>0</td>\n",
       "      <td>0.06667</td>\n",
       "    </tr>\n",
       "    <tr>\n",
       "      <th>1</th>\n",
       "      <td>1</td>\n",
       "      <td>-0.18222</td>\n",
       "    </tr>\n",
       "    <tr>\n",
       "      <th>2</th>\n",
       "      <td>2</td>\n",
       "      <td>0.17807</td>\n",
       "    </tr>\n",
       "    <tr>\n",
       "      <th>3</th>\n",
       "      <td>3</td>\n",
       "      <td>-0.07429</td>\n",
       "    </tr>\n",
       "    <tr>\n",
       "      <th>4</th>\n",
       "      <td>4</td>\n",
       "      <td>0.00726</td>\n",
       "    </tr>\n",
       "    <tr>\n",
       "      <th>5</th>\n",
       "      <td>5</td>\n",
       "      <td>0.00759</td>\n",
       "    </tr>\n",
       "    <tr>\n",
       "      <th>6</th>\n",
       "      <td>6</td>\n",
       "      <td>-0.00310</td>\n",
       "    </tr>\n",
       "    <tr>\n",
       "      <th>7</th>\n",
       "      <td>7</td>\n",
       "      <td>-0.00061</td>\n",
       "    </tr>\n",
       "    <tr>\n",
       "      <th>8</th>\n",
       "      <td>8</td>\n",
       "      <td>0.00080</td>\n",
       "    </tr>\n",
       "    <tr>\n",
       "      <th>9</th>\n",
       "      <td>9</td>\n",
       "      <td>-0.00003</td>\n",
       "    </tr>\n",
       "    <tr>\n",
       "      <th>10</th>\n",
       "      <td>10</td>\n",
       "      <td>-0.00024</td>\n",
       "    </tr>\n",
       "    <tr>\n",
       "      <th>11</th>\n",
       "      <td>11</td>\n",
       "      <td>0.00005</td>\n",
       "    </tr>\n",
       "    <tr>\n",
       "      <th>12</th>\n",
       "      <td>12</td>\n",
       "      <td>0.00009</td>\n",
       "    </tr>\n",
       "    <tr>\n",
       "      <th>13</th>\n",
       "      <td>13</td>\n",
       "      <td>-0.00003</td>\n",
       "    </tr>\n",
       "    <tr>\n",
       "      <th>14</th>\n",
       "      <td>14</td>\n",
       "      <td>-0.00005</td>\n",
       "    </tr>\n",
       "    <tr>\n",
       "      <th>15</th>\n",
       "      <td>15</td>\n",
       "      <td>0.00001</td>\n",
       "    </tr>\n",
       "    <tr>\n",
       "      <th>16</th>\n",
       "      <td>16</td>\n",
       "      <td>0.00004</td>\n",
       "    </tr>\n",
       "    <tr>\n",
       "      <th>17</th>\n",
       "      <td>17</td>\n",
       "      <td>0.00000</td>\n",
       "    </tr>\n",
       "    <tr>\n",
       "      <th>18</th>\n",
       "      <td>18</td>\n",
       "      <td>-0.00002</td>\n",
       "    </tr>\n",
       "    <tr>\n",
       "      <th>19</th>\n",
       "      <td>19</td>\n",
       "      <td>-0.00001</td>\n",
       "    </tr>\n",
       "    <tr>\n",
       "      <th>20</th>\n",
       "      <td>20</td>\n",
       "      <td>0.00001</td>\n",
       "    </tr>\n",
       "  </tbody>\n",
       "</table>\n",
       "</div>"
      ],
      "text/plain": [
       "     n  transformed\n",
       "0    0      0.06667\n",
       "1    1     -0.18222\n",
       "2    2      0.17807\n",
       "3    3     -0.07429\n",
       "4    4      0.00726\n",
       "5    5      0.00759\n",
       "6    6     -0.00310\n",
       "7    7     -0.00061\n",
       "8    8      0.00080\n",
       "9    9     -0.00003\n",
       "10  10     -0.00024\n",
       "11  11      0.00005\n",
       "12  12      0.00009\n",
       "13  13     -0.00003\n",
       "14  14     -0.00005\n",
       "15  15      0.00001\n",
       "16  16      0.00004\n",
       "17  17      0.00000\n",
       "18  18     -0.00002\n",
       "19  19     -0.00001\n",
       "20  20      0.00001"
      ]
     },
     "execution_count": 104,
     "metadata": {},
     "output_type": "execute_result"
    }
   ],
   "source": [
    "print(\"Табульована трансформація Лагера для N=20\")\n",
    "tabulate_laguerre_transformation(func5, 20)"
   ]
  },
  {
   "cell_type": "markdown",
   "id": "2c1056f0-018c-496f-8886-2db8a7a4ec82",
   "metadata": {},
   "source": [
    "<hr>"
   ]
  },
  {
   "cell_type": "markdown",
   "id": "0cc0cb3c-bfac-487a-95b6-4c0f6fa286bd",
   "metadata": {},
   "source": [
    "6. Побудувати функцiю, яка для заданої послiдовностi h^N = (h0, h1, ..., hk, ... hN , 0, 0, ...)⊤, N ∈ N, (яка має скiнчене число вiдмiнних вiд нуля елементiв) обчислює значення функцiї h~^N(t) у точцi t ∈ R+ за формулою (1.4)."
   ]
  },
  {
   "cell_type": "code",
   "execution_count": 105,
   "id": "f8e57295-cf67-4d86-ba30-40aee54f9021",
   "metadata": {},
   "outputs": [],
   "source": [
    "def reverse_laguerre_transformation(f, N, t, transformed, beta=2, sigma=4):\n",
    "    sum = 0\n",
    "    for k in range(N):\n",
    "        sum += transformed[k] * laguerre(t, k, beta, sigma)\n",
    "    return sum"
   ]
  },
  {
   "cell_type": "markdown",
   "id": "0fc6e647-d523-4a57-8824-50cd2e7d3cd4",
   "metadata": {},
   "source": [
    "<hr>"
   ]
  },
  {
   "cell_type": "markdown",
   "id": "14f2b45f-1c74-4309-be79-7a705ce74743",
   "metadata": {},
   "source": [
    "7. За даними завдання 2 побудувати графiки функцiй Лаґерра ln(t), t ∈ [0, T], n ∈ [0, N]."
   ]
  },
  {
   "cell_type": "code",
   "execution_count": 106,
   "id": "3d172134-50aa-4117-8713-6a59aed158bd",
   "metadata": {},
   "outputs": [],
   "source": [
    "def draw_lauguerre(T, N, beta=2, sigma=4):\n",
    "    x = np.arange(0, T+1, 0.01)\n",
    "    fig, ax = plt.subplots()\n",
    "    ax.set_title(r'Laguerre polynomials $L_n$')\n",
    "    for n in np.arange(0, N+1):\n",
    "        ax.plot(x, laguerre(x, n, beta, sigma), label=rf'$L_{n}$')\n",
    "    plt.xlabel('t')\n",
    "    plt.ylabel('L(t)')\n",
    "    plt.title('Plot of Laguerre function')\n",
    "    plt.legend()\n",
    "    plt.grid(True)\n",
    "    plt.show()"
   ]
  },
  {
   "cell_type": "code",
   "execution_count": 107,
   "id": "714cc259-ed97-4d45-86d9-87f409daf418",
   "metadata": {},
   "outputs": [],
   "source": [
    "n_slider =  widgets.IntSlider(value=1, min=1, max=15, step=1, description='N=')"
   ]
  },
  {
   "cell_type": "markdown",
   "id": "6090b349-b0c1-4eaf-bc19-126a5a07dbf8",
   "metadata": {},
   "source": [
    "### Графік функції Легера для t ∈ [0, 20], n ∈ [0, N], β = 2, σ = 4."
   ]
  },
  {
   "cell_type": "code",
   "execution_count": 108,
   "id": "78b687a3-a6e8-4ece-9347-40e3b4838bca",
   "metadata": {},
   "outputs": [
    {
     "data": {
      "application/vnd.jupyter.widget-view+json": {
       "model_id": "5e4a01ec7f2346a598fab7f08c92e8c2",
       "version_major": 2,
       "version_minor": 0
      },
      "text/plain": [
       "interactive(children=(IntSlider(value=5, description='N=', max=10, min=1), Output()), _dom_classes=('widget-in…"
      ]
     },
     "metadata": {},
     "output_type": "display_data"
    }
   ],
   "source": [
    "n_slider1 =  widgets.IntSlider(value=5, min=1, max=10, step=1, description='N=')\n",
    "interactive_plot1 = interactive(draw_lauguerre, T=widgets.fixed(20), N=n_slider1, beta=widgets.fixed(2), sigma=widgets.fixed(4))\n",
    "\n",
    "display(interactive_plot1)"
   ]
  },
  {
   "cell_type": "markdown",
   "id": "a18bafe9-b7f7-4b80-849b-40c6129496a5",
   "metadata": {},
   "source": [
    "<hr>"
   ]
  },
  {
   "attachments": {
    "140817aa-535f-4e45-9061-c4934ea23517.png": {
     "image/png": "[encoded data removed]"
    }
   },
   "cell_type": "markdown",
   "id": "d2e4e427-075a-43fd-a183-b29882381232",
   "metadata": {},
   "source": [
    "7. Для функцiї <br> ![image.png](attachment:140817aa-535f-4e45-9061-c4934ea23517.png) <br> виконати пряме i обернене ПЛ при деяких значеннях N. Побудувати графiк функцiї f~N(t), t ∈ [0, 2π]."
   ]
  },
  {
   "cell_type": "code",
   "execution_count": 109,
   "id": "e93af2b7-093e-4a0f-864e-78490af97fa7",
   "metadata": {},
   "outputs": [],
   "source": [
    "def draw_rlt(f, N, epsilon=0.001, beta=2, sigma=4):\n",
    "    transformed = laguerre_transformation(f, N, epsilon, beta, sigma)\n",
    "\n",
    "    def f_rlt(x):\n",
    "        return reverse_laguerre_transformation(\n",
    "            f, N, x, transformed, beta, sigma)\n",
    "    t_values = np.linspace(0, 2*np.pi, 100)\n",
    "    f_y_values = np.vectorize(f)(t_values)\n",
    "    f_rlt_y_values = np.vectorize(f_rlt)(t_values)\n",
    "    plt.plot(t_values, f_rlt_y_values, label=f\"L\")\n",
    "    plt.plot(t_values, f_y_values, label=\"F\")\n",
    "    plt.xlabel('t')\n",
    "    plt.ylabel('Function Value')\n",
    "    plt.title('Plot of func5(t)')\n",
    "    plt.legend()\n",
    "    plt.grid(True)\n",
    "    plt.show()"
   ]
  },
  {
   "cell_type": "markdown",
   "id": "de6fcb8b-f141-4108-869f-bc662793bee5",
   "metadata": {},
   "source": [
    "### Графік оберненої трансформації Лагера для t ∈ [0, 2π], n = 10, β = 2, σ = 4."
   ]
  },
  {
   "cell_type": "code",
   "execution_count": 110,
   "id": "02b65405-995e-4830-857e-f32e6424f088",
   "metadata": {},
   "outputs": [
    {
     "data": {
      "application/vnd.jupyter.widget-view+json": {
       "model_id": "e261e38028894f988dec3b32176572eb",
       "version_major": 2,
       "version_minor": 0
      },
      "text/plain": [
       "interactive(children=(IntSlider(value=1, description='N=', max=15, min=1), Output()), _dom_classes=('widget-in…"
      ]
     },
     "metadata": {},
     "output_type": "display_data"
    }
   ],
   "source": [
    "n_slider2 =  widgets.IntSlider(value=6, min=1, max=15, step=1, description='N=')\n",
    "interactive_plot2 = interactive(draw_rlt,f=widgets.fixed(func5), N=n_slider, epsilon=widgets.fixed(0.001), beta=widgets.fixed(2), sigma=widgets.fixed(4))\n",
    "\n",
    "display(interactive_plot2)"
   ]
  },
  {
   "attachments": {
    "f6e01136-7aa8-4e36-a4b2-84ae8a888dc4.png": {
     "image/png": "[encoded data removed]"
    }
   },
   "cell_type": "markdown",
   "id": "2b5cbcbb-e633-474e-9a5a-e5cab368b527",
   "metadata": {},
   "source": [
    "**Оскільки графік збігається до графіку заданої фукції func5, роблю висновок що виконується рівність (1.5) <br>![image.png](attachment:f6e01136-7aa8-4e36-a4b2-84ae8a888dc4.png)<br>**"
   ]
  },
  {
   "cell_type": "markdown",
   "id": "2276abe4-9f22-422b-8152-5f98168c0030",
   "metadata": {},
   "source": [
    "<hr>"
   ]
  },
  {
   "attachments": {
    "ca2a708b-f065-4cf2-82a2-69ced87a2b94.png": {
     "image/png": "[encoded data removed]"
    }
   },
   "cell_type": "markdown",
   "id": "cec6a08a-48bc-405c-a384-81155dcc62af",
   "metadata": {},
   "source": [
    "*. Завдання: виконати обернене перетворення Лаґерра для своєї фунції.\n",
    "\n",
    "Функція: ![image.png](attachment:ca2a708b-f065-4cf2-82a2-69ced87a2b94.png)"
   ]
  },
  {
   "cell_type": "code",
   "execution_count": 111,
   "id": "9261fbfa-5797-47d4-ae87-26db7deb975b",
   "metadata": {},
   "outputs": [],
   "source": [
    "def my_func(t):\n",
    "    if t >= 0 and t <= 2*np.pi:\n",
    "        return 2*(np.pi/2-np.arctan(t+np.pi/6))\n",
    "    else:\n",
    "        return 0"
   ]
  },
  {
   "cell_type": "markdown",
   "id": "6317d657-6bf9-4054-802d-5e9ee4a7a394",
   "metadata": {},
   "source": [
    "Візуалізую графік своєї функції та оберненого перетворення Лаґерра:"
   ]
  },
  {
   "cell_type": "code",
   "execution_count": 112,
   "id": "5c787c01-4517-4cc8-ae11-4246f5910fbc",
   "metadata": {},
   "outputs": [
    {
     "data": {
      "application/vnd.jupyter.widget-view+json": {
       "model_id": "6ee57bafceb24df48668b51b780bb885",
       "version_major": 2,
       "version_minor": 0
      },
      "text/plain": [
       "interactive(children=(IntSlider(value=1, description='N=', max=15, min=1), Output()), _dom_classes=('widget-in…"
      ]
     },
     "metadata": {},
     "output_type": "display_data"
    }
   ],
   "source": [
    "n_slider3 =  widgets.IntSlider(value=10, min=1, max=15, step=1, description='N=')\n",
    "interactive_plot3 = interactive(draw_rlt,f=widgets.fixed(my_func), N=n_slider, epsilon=widgets.fixed(0.001), beta=widgets.fixed(2), sigma=widgets.fixed(4))\n",
    "\n",
    "display(interactive_plot3)"
   ]
  },
  {
   "cell_type": "markdown",
   "id": "3da6b0da-3c36-4a0f-898c-5c7520493162",
   "metadata": {},
   "source": [
    "<hr>"
   ]
  },
  {
   "attachments": {},
   "cell_type": "markdown",
   "id": "a6bac251-f196-446d-9160-27ff37560521",
   "metadata": {},
   "source": [
    "<h3>Висновок: У ході виконання цієї лабораторної роботи я побудував функції для обчислення та табулювання функцій Лаґерра, провів обчислювальний експеримент для визначення точки T, обчислив значення інтегралів, виконав пряме та обернене ПЛ для заданої функції, а також побудував графіки для візуалізації результатів. Ця робота допомогла мені краще зрозуміти функції Лаґерра та їх реалізацію на мові Python.<h3>"
   ]
  }
 ],
 "metadata": {
  "kernelspec": {
   "display_name": "Python 3 (ipykernel)",
   "language": "python",
   "name": "python3"
  },
  "language_info": {
   "codemirror_mode": {
    "name": "ipython",
    "version": 3
   },
   "file_extension": ".py",
   "mimetype": "text/x-python",
   "name": "python",
   "nbconvert_exporter": "python",
   "pygments_lexer": "ipython3",
   "version": "3.11.5"
  }
 },
 "nbformat": 4,
 "nbformat_minor": 5
}
